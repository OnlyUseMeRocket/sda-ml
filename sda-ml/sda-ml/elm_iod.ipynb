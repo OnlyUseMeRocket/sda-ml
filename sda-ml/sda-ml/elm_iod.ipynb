{
 "cells": [
  {
   "cell_type": "markdown",
   "metadata": {},
   "source": [
    "# Generate Data\n",
    "\n",
    "Generate restricted IOD data based on the following parameters:\n",
    "\n",
    "- $a$: Semi-major axis\n",
    "- $e$: Eccentricity\n",
    "- $\\omega$: Argument of Periapsis\n",
    "- $M$: Mean Anomaly *(Although in this instance, because of super low eccentricity, it could also be true anomaly)*"
   ]
  },
  {
   "cell_type": "code",
   "execution_count": null,
   "metadata": {},
   "outputs": [
    {
     "name": "stdout",
     "output_type": "stream",
     "text": [
      "tensor([4.2164e+04, 1.5000e-02, 0.0000e+00, 0.0000e+00])\n",
      "tensor([[1.0000e+04, 0.0000e+00, 0.0000e+00, 0.0000e+00],\n",
      "        [0.0000e+00, 1.0000e-06, 0.0000e+00, 0.0000e+00],\n",
      "        [0.0000e+00, 0.0000e+00, 8.1000e+03, 0.0000e+00],\n",
      "        [0.0000e+00, 0.0000e+00, 0.0000e+00, 8.1000e+03]])\n"
     ]
    }
   ],
   "source": [
    "%reload_ext autoreload\n",
    "%autoreload 2\n",
    "\n",
    "from data.generator import INITIAL_ORBIT_PARAMS\n",
    "from data.generator import generate_initial_orbit_dataset_restricted\n",
    "\n",
    "observer, samples = generate_initial_orbit_dataset_restricted(INITIAL_ORBIT_PARAMS, 1000)\n",
    "samples = samples.reshape(1000,3)\n",
    "\n",
    "print(\"test\")\n",
    "\n"
   ]
  },
  {
   "cell_type": "code",
   "execution_count": 2,
   "metadata": {},
   "outputs": [
    {
     "name": "stdout",
     "output_type": "stream",
     "text": [
      "(343.3164367675781, -6368.9033203125, 47.7215461730957) km\n",
      "(4990.10303003, -3972.48818789, 35.81022118) km\n",
      "tensor([ 4990.1030, -3972.4883,    35.8102])\n"
     ]
    }
   ],
   "source": [
    "import numpy as np\n",
    "import torch\n",
    "from astropy.coordinates import ICRS, ITRS, CartesianRepresentation, EarthLocation\n",
    "from astropy.time import Time\n",
    "import astropy.units as u\n",
    "from skyfield.framelib import itrs\n",
    "\n",
    "current_time = Time.now()\n",
    "\n",
    "GD_LAT = 0.43157\n",
    "GD_LONG = 273.085549\n",
    "alt = 192.5\n",
    "\n",
    "GD_LAT = np.deg2rad(GD_LAT)\n",
    "GD_LONG = np.deg2rad(GD_LONG)\n",
    "alt = alt * 1e-3\n",
    "\n",
    "distance_to_surface = 6378.137\n",
    "f = 1.0 / 298.257223563\n",
    "\n",
    "# Earth Eccentricity\n",
    "e = np.sqrt((2 * f) - (f ** 2))\n",
    "\n",
    "# Geodedic Radius\n",
    "N = distance_to_surface / np.sqrt(1 - (e ** 2) * (np.sin(GD_LAT) ** 2))\n",
    "\n",
    "# Calculate ECEF Position\n",
    "R_ECEF = torch.Tensor([\n",
    "    (N + alt) * np.cos(GD_LAT) * np.cos(GD_LONG),\n",
    "    (N + alt) * np.cos(GD_LAT) * np.sin(GD_LONG),\n",
    "    (N * (1 - (e ** 2)) + alt) * np.sin(GD_LAT)\n",
    "])\n",
    "\n",
    "\n",
    "\n",
    "arms_itrs = EarthLocation(\n",
    "    x=R_ECEF[0] * u.km,\n",
    "    y=R_ECEF[1] * u.km,\n",
    "    z=R_ECEF[2] * u.km\n",
    ")\n",
    "\n",
    "r_ecef = arms_itrs.get_gcrs(obstime=current_time).represent_as('cartesian')\n",
    "xyz = r_ecef.get_xyz()\n",
    "xyz = xyz.value\n",
    "xyz = torch.Tensor(xyz)\n",
    "\n",
    "print(arms_itrs)\n",
    "print(r_ecef)\n",
    "print(xyz)\n",
    "\n",
    "#ARMS_ITRS = ITRS(R_ECEF_units, representation_type='cartesian', obstime=current_time)\n",
    "#ARMS_J2K = ARMS_ITRS.transform_to(ICRS())\n",
    "#ARMS_J2K = ARMS_J2K.represent_as('cartesian')\n",
    "#print(ARMS_ITRS)\n",
    "#print(ARMS_J2K)\n"
   ]
  },
  {
   "cell_type": "markdown",
   "metadata": {},
   "source": []
  }
 ],
 "metadata": {
  "kernelspec": {
   "display_name": ".venv",
   "language": "python",
   "name": "python3"
  },
  "language_info": {
   "codemirror_mode": {
    "name": "ipython",
    "version": 3
   },
   "file_extension": ".py",
   "mimetype": "text/x-python",
   "name": "python",
   "nbconvert_exporter": "python",
   "pygments_lexer": "ipython3",
   "version": "3.12.7"
  }
 },
 "nbformat": 4,
 "nbformat_minor": 2
}
