{
 "cells": [
  {
   "cell_type": "markdown",
   "metadata": {},
   "source": [
    "# Generate Data\n",
    "\n",
    "Generate restricted IOD data based on the following parameters:\n",
    "\n",
    "- $a$: Semi-major axis\n",
    "- $e$: Eccentricity\n",
    "- $\\omega$: Argument of Periapsis\n",
    "- $M$: Mean Anomaly *(Although in this instance, because of super low eccentricity, it could also be true anomaly)*"
   ]
  },
  {
   "cell_type": "code",
   "execution_count": null,
   "metadata": {},
   "outputs": [],
   "source": [
    "%reload_ext autoreload\n",
    "%autoreload 2\n",
    "\n",
    "from experiment.constants import INITIAL_ORBIT_PARAMS\n",
    "from data.generator import generate_initial_orbit_dataset_restricted\n",
    "\n",
    "iod_dataset = generate_initial_orbit_dataset_restricted(INITIAL_ORBIT_PARAMS, 1000)\n"
   ]
  },
  {
   "cell_type": "markdown",
   "metadata": {},
   "source": [
    "# Define ELM Model and Training Loop\n",
    "\n",
    "Input: $n$ size scalar array\n"
   ]
  }
 ],
 "metadata": {
  "kernelspec": {
   "display_name": ".venv",
   "language": "python",
   "name": "python3"
  },
  "language_info": {
   "codemirror_mode": {
    "name": "ipython",
    "version": 3
   },
   "file_extension": ".py",
   "mimetype": "text/x-python",
   "name": "python",
   "nbconvert_exporter": "python",
   "pygments_lexer": "ipython3",
   "version": "3.12.7"
  }
 },
 "nbformat": 4,
 "nbformat_minor": 2
}
