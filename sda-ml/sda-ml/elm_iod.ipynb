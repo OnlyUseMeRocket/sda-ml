{
 "cells": [
  {
   "cell_type": "markdown",
   "metadata": {},
   "source": [
    "# Generate Data\n",
    "\n",
    "Generate restricted IOD data based on the following parameters:\n",
    "\n",
    "- $a$: Semi-major axis\n",
    "- $e$: Eccentricity\n",
    "- $\\omega$: Argument of Periapsis\n",
    "- $M$: Mean Anomaly *(Although in this instance, because of super low eccentricity, it could also be true anomaly)*"
   ]
  },
  {
   "cell_type": "code",
   "execution_count": null,
   "metadata": {},
   "outputs": [],
   "source": []
  }
 ],
 "metadata": {
  "kernelspec": {
   "display_name": ".venv",
   "language": "python",
   "name": "python3"
  },
  "language_info": {
   "name": "python",
   "version": "3.12.7"
  }
 },
 "nbformat": 4,
 "nbformat_minor": 2
}
