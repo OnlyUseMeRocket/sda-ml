{
 "cells": [
  {
   "cell_type": "markdown",
   "metadata": {},
   "source": [
    "# Generate Data\n",
    "\n",
    "Generate restricted IOD data based on the following parameters:\n",
    "\n",
    "- $a$: Semi-major axis\n",
    "- $e$: Eccentricity\n",
    "- $\\omega$: Argument of Periapsis\n",
    "- $M$: Mean Anomaly *(Although in this instance, because of super low eccentricity, it could also be true anomaly)*"
   ]
  },
  {
   "cell_type": "code",
   "execution_count": null,
   "metadata": {},
   "outputs": [],
   "source": [
    "%reload_ext autoreload\n",
    "%autoreload 2\n",
    "\n",
    "from data.experiment import INITIAL_ORBIT_PARAMS\n",
    "from data.generator import generate_initial_orbit_samples_restricted\n",
    "\n",
    "samples = generate_initial_orbit_samples_restricted(INITIAL_ORBIT_PARAMS, 1000)\n",
    "print(samples)\n",
    "print(\"test debug\")\n",
    "print(type(samples[999,1].item()))\n"
   ]
  },
  {
   "cell_type": "code",
   "execution_count": 11,
   "metadata": {},
   "outputs": [
    {
     "name": "stdout",
     "output_type": "stream",
     "text": [
      "tensor([  343316.4375, -6368903.0000,    47721.5469])\n",
      "6378328.0\n"
     ]
    }
   ],
   "source": [
    "import numpy as np\n",
    "import torch\n",
    "\n",
    "GD_LAT = 0.43157\n",
    "GD_LONG = 273.085549\n",
    "alt = 192.5\n",
    "\n",
    "GD_LAT = np.deg2rad(GD_LAT)\n",
    "GD_LONG = np.deg2rad(GD_LONG)\n",
    "\n",
    "distance_to_surface = 6378.137e3\n",
    "f = 1.0 / 298.257223563\n",
    "\n",
    "# Earth Eccentricity\n",
    "e = np.sqrt((2 * f) - (f ** 2))\n",
    "\n",
    "# Geodedic Radius\n",
    "N = distance_to_surface / np.sqrt(1 - (e ** 2) * (np.sin(GD_LAT) ** 2))\n",
    "\n",
    "# Calculate ECEF Position\n",
    "R_ECEF = torch.Tensor([\n",
    "    (N + alt) * np.cos(GD_LAT) * np.cos(GD_LONG),\n",
    "    (N + alt) * np.cos(GD_LAT) * np.sin(GD_LONG),\n",
    "    (N * (1 - (e ** 2)) + alt) * np.sin(GD_LAT)\n",
    "])\n",
    "print(R_ECEF)\n",
    "print(np.linalg.norm(R_ECEF))"
   ]
  }
 ],
 "metadata": {
  "kernelspec": {
   "display_name": ".venv",
   "language": "python",
   "name": "python3"
  },
  "language_info": {
   "codemirror_mode": {
    "name": "ipython",
    "version": 3
   },
   "file_extension": ".py",
   "mimetype": "text/x-python",
   "name": "python",
   "nbconvert_exporter": "python",
   "pygments_lexer": "ipython3",
   "version": "3.12.7"
  }
 },
 "nbformat": 4,
 "nbformat_minor": 2
}
